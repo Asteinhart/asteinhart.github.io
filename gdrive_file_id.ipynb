{
 "cells": [
  {
   "cell_type": "code",
   "execution_count": 25,
   "metadata": {},
   "outputs": [],
   "source": [
    "import os.path\n",
    "\n",
    "from google.auth.transport.requests import Request\n",
    "from google.oauth2.credentials import Credentials\n",
    "from google_auth_oauthlib.flow import InstalledAppFlow\n",
    "from googleapiclient.discovery import build\n",
    "from googleapiclient.errors import HttpError\n",
    "\n",
    "# If modifying these scopes, delete the file token.json.\n",
    "SCOPES = [\"https://www.googleapis.com/auth/drive.metadata.readonly\"]\n",
    "\n",
    "\n",
    "def main():\n",
    "  \"\"\"Shows basic usage of the Drive v3 API.\n",
    "  Prints the names and ids of the first 10 files the user has access to.\n",
    "  \"\"\"\n",
    "  creds = None\n",
    "  # The file token.json stores the user's access and refresh tokens, and is\n",
    "  # created automatically when the authorization flow completes for the first\n",
    "  # time.\n",
    "  if os.path.exists(\"token.json\"):\n",
    "    creds = Credentials.from_authorized_user_file(\"token.json\", SCOPES)\n",
    "  # If there are no (valid) credentials available, let the user log in.\n",
    "  if not creds or not creds.valid:\n",
    "    if creds and creds.expired and creds.refresh_token:\n",
    "      creds.refresh(Request())\n",
    "    else:\n",
    "      flow = InstalledAppFlow.from_client_secrets_file(\n",
    "          \"credentials.json\", SCOPES\n",
    "      )\n",
    "      creds = flow.run_local_server(port=0)\n",
    "    # Save the credentials for the next run\n",
    "    with open(\"token.json\", \"w\") as token:\n",
    "      token.write(creds.to_json())\n",
    "\n",
    "  try:\n",
    "    service = build(\"drive\", \"v3\", credentials=creds)\n",
    "\n",
    "    results = []\n",
    "    folder_id = '1nZvAyc7Fl8UW7GTQDgTCWMN4rTFjXsfQ'\n",
    "\n",
    "    def fetch_files(folder_id, folder_path):\n",
    "    \n",
    "      page_token = None\n",
    "      while True:\n",
    "          response = service.files().list(\n",
    "              q=f\"'{folder_id}' in parents\",\n",
    "              spaces='drive',\n",
    "              fields='nextPageToken, files(id, name, mimeType)',\n",
    "              pageToken=page_token\n",
    "          ).execute()\n",
    "\n",
    "          for file in response.get('files', []):\n",
    "              if file['mimeType'] == 'application/vnd.google-apps.folder':\n",
    "                  new_path = f\"{folder_path}/{file['name']}\"\n",
    "                  fetch_files(file['id'], new_path)\n",
    "              else:\n",
    "                  results.append({\n",
    "                      'file_name': file['name'],\n",
    "                      'file_id': file['id'],\n",
    "                      'folder_path': folder_path\n",
    "                  })\n",
    "\n",
    "          page_token = response.get('nextPageToken', None)\n",
    "          if not page_token:\n",
    "              break\n",
    "  except HttpError as error:\n",
    "      print(f'An error occurred: {error}')\n",
    "\n",
    "  fetch_files(folder_id,\"Root\")\n",
    "  return results"
   ]
  },
  {
   "cell_type": "code",
   "execution_count": 26,
   "metadata": {},
   "outputs": [],
   "source": [
    "results = main()"
   ]
  },
  {
   "cell_type": "code",
   "execution_count": 36,
   "metadata": {},
   "outputs": [],
   "source": [
    "# convert results to an dictionary where key is the folder path and value is a list of files\n",
    "folder_files = {}\n",
    "for result in results:\n",
    "    if result['folder_path'] != \"Root\":\n",
    "        folder_path = result['folder_path'].split(\"/\")[-1]\n",
    "        if folder_path not in folder_files:\n",
    "            folder_files[folder_path] = []\n",
    "        folder_files[folder_path].append(result['file_id'])"
   ]
  },
  {
   "cell_type": "code",
   "execution_count": 37,
   "metadata": {},
   "outputs": [
    {
     "data": {
      "text/plain": [
       "{'nyc': ['1EZesQ4rA0vaGb4Hp_7f-8wtvJQiws_xd',\n",
       "  '1sVU9BYyfuQMO1_0K-eKVNgK8ID6b2o8u',\n",
       "  '17LezTzL0KBXalC_C4gX4N6PmjLUyfMAD',\n",
       "  '19cTz5mPnSe75WttrIPWymIuxQxyVMv10',\n",
       "  '1W0Ai5rAqBZYLy-zUDl1PvXDq3fTd27Ik',\n",
       "  '13epn_-gtnPsc5uhoVKhagbLxce0iAkJu',\n",
       "  '1h7gQzp836kdQnLBD95wH-C_2Wy2FwhoI',\n",
       "  '1wWPqFKIKC9Mk884KhLf7mC1uYLMG52Y6',\n",
       "  '1R2miTn3DupEY2KbPzl_JYv8yFzU30DUY',\n",
       "  '1K4se1SANg7HBFkT6b14BKsBB0TBW6jav',\n",
       "  '1j4RosVtlUEiflxfv5hDjb--gXOucSnZ0',\n",
       "  '1rNolRCd54CA0XjtAIEiGm5VF9KRTeKAx',\n",
       "  '1xQRFCc4ylZNHPv6fPCzlDaSdLMBrmoB6',\n",
       "  '1hr2-YpmqX9hIDqfhOCe0N3jHxUZCMV-l',\n",
       "  '10-XIlBDGu6-SJKJqA8gtdWf9cwvy-JQQ',\n",
       "  '1KYiNM294njqegGLc_Yd-5BLtfD9D_FL_',\n",
       "  '1-j4yHBhXTfDrNN5IgykLHywRH0jzj7Sn',\n",
       "  '1CnFtfbN3DbiNHt4PYPv1dqACXRVAbWcw',\n",
       "  '1m1BBaZLeWY3A8KSJTD72E9VQcNPdk7_O',\n",
       "  '1iVyxanLrBlRkfxXzfbi04ncZTE0a0W1I',\n",
       "  '1ez_VPgIK1-WmKRjd0YdxyH7ZwEXahQ6W',\n",
       "  '1Kw6oL2oCgztjtz1RObWjsaHdLQI9zbqr'],\n",
       " 'stk': ['1PRi_elXLjEux7RO9fy5IACbp6Jtqz0El',\n",
       "  '1O_m-nLA-hi4Mw6L669jkJPyi7NmdS6eM',\n",
       "  '1QyaExUIpz8PrDrtOCOkfPJZIEIIuCWpn',\n",
       "  '1ryzbPKD4nQCwaNsBz9cXZgDKF0jNwvGS',\n",
       "  '130GJdTre_XK4qZD463NGGAqhylslX3_X',\n",
       "  '1-Rgn3DQssOEuwbx8rjCLAV5N4guFsqw1',\n",
       "  '13S6kDuGwWUJj9PsCJ4zHRn-KJLdIMknV',\n",
       "  '1QwcO6mnsWxV9pLkINlCrg35qxNRUwQb2',\n",
       "  '1mTMlTi9dSyxis16EGa3MlNT82hgy3u6_'],\n",
       " 'cali': ['1xSXqQlIReUf7cMLV-3ZKZ1U_Q3RyIREg',\n",
       "  '1RqZetJHID04vYXBKLzhHfAE8c8gm-yJD',\n",
       "  '1q_GwrfIf2Su67nZL2xBEBpKOJzxYgjVi',\n",
       "  '16hYGoiIDdJwAP8ngegCf4IXu_6l3LXEU',\n",
       "  '143btZqavp_Qq0VF1n34mYO_AlCoylPTE',\n",
       "  '1WjkXqwO4WO5UOHkSDnTzsKHwEhc5FpwI',\n",
       "  '1MBtL3pub8ZLnf-OX_lh54MUTk9mY-0cE',\n",
       "  '1ga3dOjTLAto0gB9xh332dJLm_vckdISe',\n",
       "  '10DRY-tRwZL0Ufc4fM9OmNVLbJX8Vw_1C',\n",
       "  '1jQ3r0LkpbFzDod2Kcu67-Cbj3dNSQwQb',\n",
       "  '1gutKRkkth_77Oqg0cl5FoeLX_zJZdP_t'],\n",
       " 'other': ['1pYyDE6p5MXmYvIYcdDA4CCLnwcMZ15oG',\n",
       "  '1nc9jNmnbkhVlbYDEJe1CwUk5-ga5d23v',\n",
       "  '184ARjBAGZbW8pBGA9TOmCN4LCxZxnsjS',\n",
       "  '16qQIeI-f2-z_yZcnPGzygcXQ6Oit4lpD',\n",
       "  '1y5wDIqTZhjMQwasdXkwUZc3AAktYPpxv',\n",
       "  '1mZi8lnXdYv5hCIX2Bum_qFLEiNnxZCm-',\n",
       "  '1SLBrmN-NS0_3Q56eb1fYGCUbDaOzPd_R',\n",
       "  '1eycHH-zStr3VR2ypTV3RjFfVoYcNSJTU',\n",
       "  '1KEaDsZ4EVh1OFNcZgKJ_4QtYIdrknhUP',\n",
       "  '1afprQHqMC2PxFYFpnN86Ew-95rq9FKep',\n",
       "  '1keTWcK9Moc8Vzr15S-QddW8KjB7VqOP0',\n",
       "  '1tL6szuArnxdSkl54fcZiLlEhuW5XsT3x',\n",
       "  '1FdLL-HpezhIOqzURGJtkUKvLs-TQS-gY',\n",
       "  '1SusJnQanXWnFkEfTjMLt9YcyWXwza-Ts',\n",
       "  '1j2t8na_5naWfFU6aF2dWFeEcI5D-zCem',\n",
       "  '1d7m975nrHT4L5_WLjPbPK-cozyS2PjVF',\n",
       "  '1saEXZzE_sqMkmVGtu4XgG3qyI3E04Z70',\n",
       "  '13ZStCcjO6CN9vztHzA8wh3a74PgkC8rs',\n",
       "  '1RP_l1su6eg0DWw9Zb0KLvPe2rUboedyg',\n",
       "  '1JFsz3vORmYz4i_iUV3lHp42tyX2MXQUL',\n",
       "  '1CcSpmc0g0LXsb4kK82nX82mG8MtrLJTU',\n",
       "  '1OZGHm0Vt6LVKELxNDVOGpfyXjboj0ODB',\n",
       "  '1NM95PnkVxqeq3Tnu6xXYm1QREDJSmzd9',\n",
       "  '1TbjeeAYHPmDu-zu7F1p9aD5wiqxHPLRM',\n",
       "  '1bb_KVRFP8gVE3iNiaZjacNQSRRr1g1ux',\n",
       "  '1CkIwqfMTgdZtbOTeflXH7Lo29bafqeCh',\n",
       "  '1Hvv6enNys4O_nxFxA1GaEJFm1WqnTS5B',\n",
       "  '1cn0ZOmSC5bwNmBTjaPbWUEZxr1kltd3P'],\n",
       " 'chi': ['1lwxpyXwm0u2R-SZEEDjivho-NavmvVco',\n",
       "  '1S8JLo5AmLrxgAS_KSy_vCNNlbBsE1_X1',\n",
       "  '1wyHSJKfEZ4sTuJtDZCPsIJirx6irAo2g',\n",
       "  '1VYMFdjKhnsgwPU1M7Iynlsay-YpMI7Sa',\n",
       "  '1w4WUdfxlxlXAtWT0Ck6XLPgbEHQZ3Q5o',\n",
       "  '1ZOoQ8Yy98gBpgMTPFmr11g1CLnJDMQ6t',\n",
       "  '1YOw6bDgkVHeHoQhUL9jZQ2YlCHnBlrv4']}"
      ]
     },
     "execution_count": 37,
     "metadata": {},
     "output_type": "execute_result"
    }
   ],
   "source": [
    "folder_files"
   ]
  },
  {
   "cell_type": "code",
   "execution_count": 28,
   "metadata": {},
   "outputs": [],
   "source": [
    "#count numner of itesm for each folder_path\n",
    "folder_path_count = {}\n",
    "for result in results:\n",
    "  folder_path = result['folder_path']\n",
    "  if folder_path in folder_path_count:\n",
    "    folder_path_count[folder_path] += 1\n",
    "  else:\n",
    "    folder_path_count[folder_path] = 1"
   ]
  },
  {
   "cell_type": "code",
   "execution_count": 29,
   "metadata": {},
   "outputs": [
    {
     "data": {
      "text/plain": [
       "{'Root/nyc': 22,\n",
       " 'Root/stk': 9,\n",
       " 'Root/cali': 11,\n",
       " 'Root/other': 28,\n",
       " 'Root/chi': 7,\n",
       " 'Root': 5}"
      ]
     },
     "execution_count": 29,
     "metadata": {},
     "output_type": "execute_result"
    }
   ],
   "source": [
    "folder_path_count"
   ]
  }
 ],
 "metadata": {
  "kernelspec": {
   "display_name": "venv",
   "language": "python",
   "name": "python3"
  },
  "language_info": {
   "codemirror_mode": {
    "name": "ipython",
    "version": 3
   },
   "file_extension": ".py",
   "mimetype": "text/x-python",
   "name": "python",
   "nbconvert_exporter": "python",
   "pygments_lexer": "ipython3",
   "version": "3.12.1"
  }
 },
 "nbformat": 4,
 "nbformat_minor": 2
}
